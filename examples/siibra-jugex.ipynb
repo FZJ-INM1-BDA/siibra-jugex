{
 "cells": [
  {
   "cell_type": "markdown",
   "metadata": {},
   "source": [
    "# Perform a differential gene expression analysis with brainscapes\n",
    "\n",
    "The DifferentialGeneExpression class compute differential gene expresssion in two different brain regions, following the JuGEx algorithm described in the following publication:\n",
    "\n",
    "> *Sebastian Bludau, Thomas W. Mühleisen, Simon B. Eickhoff, Michael J. Hawrylycz, Sven Cichon, Katrin Amunts. Integration of transcriptomic and cytoarchitectonic data implicates a role for MAOA and TAC1 in the limbic-cortical network. 2018, Brain Structure and Function. https://doi.org/10.1007/s00429-018-1620-6*\n",
    "      \n",
    "In this siibra toolbox, the object is initialized with a siibra atlas object. It will check if the parcellation selected in the atlas is suitable for performing the analysis, which includes to verify that the given atlas object provides maps in the MNI ICBM 152 space. The analysis is configured by specifying some candidate genes of interest, and two regions of interest (ROI) specified by brain area names that the atlas object can resolve. Note that the siibra atlas class does fuzzy string matching to resolve region names, so you can try with a simple name of the regions to see if siibra interprets them.  Also, gene names can easily be looked up and autocompleted in siibra.gene_names. \n",
    "\n",
    "For the gene expression data, siibra accesses the Allen Brain Atlas API (© 2015 Allen Institute for Brain Science. Allen Brain Atlas API. Available from: brain-map.org/api/index.html). "
   ]
  },
  {
   "cell_type": "markdown",
   "metadata": {},
   "source": [
    "## Preparation\n",
    "\n",
    "We install the siibra library, and set an EBRAINS Knowledge Graph authentication token the we can request  [here](https://nexus-iam.humanbrainproject.org/v0/oauth2/authorize) after creating an HBP account."
   ]
  },
  {
   "cell_type": "markdown",
   "metadata": {},
   "source": [
    "## Instantiate human brain atlas with Julich-Brain cytoarchitectonic maps\n",
    "\n",
    "We instantiate the human atlas, and tell it to prefer thresholded continous maps over labelled regions in the discrete parcellation map. For the Julich-Brain parcellation, this mean that it will use thresholded probability maps, if available."
   ]
  },
  {
   "cell_type": "markdown",
   "metadata": {},
   "source": [
    "## Setup and run the experiment"
   ]
  },
  {
   "cell_type": "code",
   "execution_count": null,
   "metadata": {},
   "outputs": [],
   "source": [
    "import siibra, siibra_jugex as jugex"
   ]
  },
  {
   "cell_type": "markdown",
   "metadata": {},
   "source": [
    "Configuring the experiment is now just a matter of a few lines of code:"
   ]
  },
  {
   "cell_type": "code",
   "execution_count": null,
   "metadata": {},
   "outputs": [],
   "source": [
    "atlas = siibra.atlases.MULTILEVEL_HUMAN_ATLAS\n",
    "jugex = jugex.DifferentialGeneExpression(atlas)\n",
    "\n",
    "candidate_regions = [\"v1 right\",\"v2 right\"]\n",
    "candidate_genes = [\"MAOA\",\"TAC1\"]\n",
    "\n",
    "jugex.add_candidate_genes(candidate_genes)\n",
    "jugex.define_roi1(candidate_regions[0])\n",
    "jugex.define_roi2(candidate_regions[1])"
   ]
  },
  {
   "cell_type": "code",
   "execution_count": null,
   "metadata": {},
   "outputs": [],
   "source": [
    "# as in the original JuGEx, we prefer thresholded probability maps \n",
    "# over the labelled region in the maximum probability map\n",
    "atlas.enable_continuous_map_thresholding(0.2)"
   ]
  },
  {
   "cell_type": "markdown",
   "metadata": {},
   "source": [
    "We are now setup to run the analysis."
   ]
  },
  {
   "cell_type": "code",
   "execution_count": null,
   "metadata": {},
   "outputs": [],
   "source": [
    "result = jugex.run(permutations=1000)"
   ]
  },
  {
   "cell_type": "code",
   "execution_count": null,
   "metadata": {},
   "outputs": [],
   "source": [
    "print(result['p-values'])"
   ]
  },
  {
   "cell_type": "markdown",
   "metadata": {},
   "source": [
    "## Look at the anatomical positions of the samples in MNI space"
   ]
  },
  {
   "cell_type": "markdown",
   "metadata": {},
   "source": [
    "Let's have a look at the sample positions that have been found in the Allen atlas. Since we configured brainscapes to prefer thresholded continuous maps for region filtering over the simplified parcellation map, we also plot the probability maps here."
   ]
  },
  {
   "cell_type": "code",
   "execution_count": null,
   "metadata": {},
   "outputs": [],
   "source": [
    "from nilearn import plotting\n",
    "import numpy as np\n",
    "\n",
    "for regionname in candidate_regions:\n",
    "    samples = jugex.get_samples(regionname)\n",
    "    region = atlas.select_region(regionname)\n",
    "    pmap = atlas.selected_region.get_regional_map(\n",
    "        siibra.spaces.MNI152_2009C_NONL_ASYM, \n",
    "        siibra.MapType.CONTINUOUS)    \n",
    "    # we could have also used the simple parcellation map mask as follows:\n",
    "    # mask = atlas.get_mask(bs.spaces.MNI_152_ICBM_2009C_NONLINEAR_ASYMMETRIC)\n",
    "    display = plotting.plot_roi(pmap,cmap=\"jet\",title=region.name)\n",
    "    display.add_markers([s['mnicoord'] for s in samples.values()])"
   ]
  },
  {
   "cell_type": "markdown",
   "metadata": {},
   "source": [
    "The aggregated input parameters can be stored to disk."
   ]
  },
  {
   "cell_type": "code",
   "execution_count": null,
   "metadata": {},
   "outputs": [],
   "source": [
    "jugex.save('jugex_{}_{}.json'.format(\n",
    "    \"_\".join(candidate_regions),\n",
    "    \"_\".join(candidate_genes) ))"
   ]
  }
 ],
 "metadata": {
  "kernelspec": {
   "display_name": "Python 3",
   "language": "python",
   "name": "python3"
  },
  "language_info": {
   "codemirror_mode": {
    "name": "ipython",
    "version": 3
   },
   "file_extension": ".py",
   "mimetype": "text/x-python",
   "name": "python",
   "nbconvert_exporter": "python",
   "pygments_lexer": "ipython3",
   "version": "3.9.1"
  }
 },
 "nbformat": 4,
 "nbformat_minor": 4
}
